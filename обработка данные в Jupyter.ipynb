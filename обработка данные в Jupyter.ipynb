{
 "cells": [
  {
   "cell_type": "code",
   "execution_count": 36,
   "id": "3417d591-669e-46d4-921f-922c7a66605e",
   "metadata": {},
   "outputs": [
    {
     "name": "stdout",
     "output_type": "stream",
     "text": [
      "Pandas и NumPy работают!\n"
     ]
    }
   ],
   "source": [
    "import numpy as np\n",
    "import pandas as pd\n",
    "print(\"Pandas и NumPy работают!\")"
   ]
  },
  {
   "cell_type": "code",
   "execution_count": 37,
   "id": "0f825f89-4f38-402a-be73-1307d6b411e0",
   "metadata": {},
   "outputs": [
    {
     "name": "stdout",
     "output_type": "stream",
     "text": [
      "C:\\Users\\admin\\AppData\\Roaming\\Python\\Python311\\Scripts\n"
     ]
    }
   ],
   "source": [
    "import os\n",
    "print(os.getcwd())"
   ]
  },
  {
   "cell_type": "code",
   "execution_count": 38,
   "id": "a821d910-b030-4217-83a1-cebcd0fedc71",
   "metadata": {},
   "outputs": [],
   "source": [
    "#Разведка данных и исправление типов данных"
   ]
  },
  {
   "cell_type": "code",
   "execution_count": 39,
   "id": "abae16f1-2493-4151-91c8-9a2ed31ff466",
   "metadata": {},
   "outputs": [
    {
     "name": "stdout",
     "output_type": "stream",
     "text": [
      "   Row_ID        Order_ID  Order_Date   Ship_Date       Ship_Mode Customer_ID  \\\n",
      "0       1  CA-2017-152156   8/11/2017  11/11/2017    Second Class    CG-12520   \n",
      "1       2  CA-2017-152156   8/11/2017  11/11/2017    Second Class    CG-12520   \n",
      "2       3  CA-2017-138688   12/6/2017  16/06/2017    Second Class    DV-13045   \n",
      "3       4  US-2016-108966  11/10/2016  18/10/2016  Standard Class    SO-20335   \n",
      "4       5  US-2016-108966  11/10/2016  18/10/2016  Standard Class    SO-20335   \n",
      "\n",
      "     Customer_Name    Segment        Country             City       State  \\\n",
      "0      Claire Gute   Consumer  United States        Henderson    Kentucky   \n",
      "1      Claire Gute   Consumer  United States        Henderson    Kentucky   \n",
      "2  Darrin Van Huff  Corporate  United States      Los Angeles  California   \n",
      "3    Sean O Donnel   Consumer  United States  Fort Lauderdale     Florida   \n",
      "4    Sean O Donnel   Consumer  United States  Fort Lauderdale     Florida   \n",
      "\n",
      "   Postal_Code Region       Product_ID         Category Sub_Category  \\\n",
      "0      42420.0  South  FUR-BO-10001798        Furniture    Bookcases   \n",
      "1      42420.0  South  FUR-CH-10000454        Furniture       Chairs   \n",
      "2      90036.0   West  OFF-LA-10000240  Office Supplies       Labels   \n",
      "3      33311.0  South  FUR-TA-10000577        Furniture       Tables   \n",
      "4      33311.0  South  OFF-ST-10000760  Office Supplies      Storage   \n",
      "\n",
      "                                        Product_Name     Sales  \n",
      "0                  Bush Somerset Collection Bookcase  261.9600  \n",
      "1  Hon Deluxe Fabric Upholstered Stacking Chairs,...  731.9400  \n",
      "2  Self-Adhesive Address Labels for Typewriters b...   14.6200  \n",
      "3      Bretford CR4500 Series Slim Rectangular Table  957.5775  \n",
      "4                      Eldon Fold N Roll Cart System   22.3680  \n"
     ]
    }
   ],
   "source": [
    "# Загружаем CSV-файл в DataFrame.\n",
    "# По умолчанию Pandas использует кодировку UTF-8, но при чтении возникла ошибка UnicodeDecodeError.\n",
    "# Это означает, что в файле есть символы, не поддерживаемые UTF-8.\n",
    "# Мы изменили кодировку на \"ISO-8859-1\", которая поддерживает европейские языки и решает проблему.\n",
    "# Также установили параметр low_memory=False, чтобы Pandas не загружал данные частями, избегая ошибок с типами.\n",
    "df = pd.read_csv(\"superstore_final_dataset (1).csv\", encoding=\"ISO-8859-1\", low_memory=False)\n",
    "\n",
    "# Выводим первые 5 строк, чтобы проверить корректность загрузки.\n",
    "print(df.head())\n",
    "\n",
    "# Данные загружены, но есть несоответствие типов (например, даты представлены как строки).\n",
    "# Следующим шагом будем приводить данные к правильным типам."
   ]
  },
  {
   "cell_type": "code",
   "execution_count": 40,
   "id": "f27a2c43-c337-4b0b-b7bc-d700579782cf",
   "metadata": {},
   "outputs": [
    {
     "name": "stdout",
     "output_type": "stream",
     "text": [
      "Row_ID                    int64\n",
      "Order_ID                 object\n",
      "Order_Date       datetime64[ns]\n",
      "Ship_Date        datetime64[ns]\n",
      "Ship_Mode                object\n",
      "Customer_ID              object\n",
      "Customer_Name            object\n",
      "Segment                  object\n",
      "Country                  object\n",
      "City                     object\n",
      "State                    object\n",
      "Postal_Code               Int64\n",
      "Region                   object\n",
      "Product_ID               object\n",
      "Category                 object\n",
      "Sub_Category             object\n",
      "Product_Name             object\n",
      "Sales                   float64\n",
      "dtype: object\n",
      "   Row_ID        Order_ID Order_Date  Ship_Date       Ship_Mode Customer_ID  \\\n",
      "0       1  CA-2017-152156 2017-11-08 2017-11-11    Second Class    CG-12520   \n",
      "1       2  CA-2017-152156 2017-11-08 2017-11-11    Second Class    CG-12520   \n",
      "2       3  CA-2017-138688 2017-06-12 2017-06-16    Second Class    DV-13045   \n",
      "3       4  US-2016-108966 2016-10-11 2016-10-18  Standard Class    SO-20335   \n",
      "4       5  US-2016-108966 2016-10-11 2016-10-18  Standard Class    SO-20335   \n",
      "\n",
      "     Customer_Name    Segment        Country             City       State  \\\n",
      "0      Claire Gute   Consumer  United States        Henderson    Kentucky   \n",
      "1      Claire Gute   Consumer  United States        Henderson    Kentucky   \n",
      "2  Darrin Van Huff  Corporate  United States      Los Angeles  California   \n",
      "3    Sean O Donnel   Consumer  United States  Fort Lauderdale     Florida   \n",
      "4    Sean O Donnel   Consumer  United States  Fort Lauderdale     Florida   \n",
      "\n",
      "   Postal_Code Region       Product_ID         Category Sub_Category  \\\n",
      "0        42420  South  FUR-BO-10001798        Furniture    Bookcases   \n",
      "1        42420  South  FUR-CH-10000454        Furniture       Chairs   \n",
      "2        90036   West  OFF-LA-10000240  Office Supplies       Labels   \n",
      "3        33311  South  FUR-TA-10000577        Furniture       Tables   \n",
      "4        33311  South  OFF-ST-10000760  Office Supplies      Storage   \n",
      "\n",
      "                                        Product_Name     Sales  \n",
      "0                  Bush Somerset Collection Bookcase  261.9600  \n",
      "1  Hon Deluxe Fabric Upholstered Stacking Chairs,...  731.9400  \n",
      "2  Self-Adhesive Address Labels for Typewriters b...   14.6200  \n",
      "3      Bretford CR4500 Series Slim Rectangular Table  957.5775  \n",
      "4                      Eldon Fold N Roll Cart System   22.3680  \n"
     ]
    }
   ],
   "source": [
    "# Убираем возможные лишние пробелы в названиях колонок\n",
    "df.columns = df.columns.str.strip()\n",
    "\n",
    "# Преобразуем даты в формат datetime\n",
    "df[\"Order_Date\"] = pd.to_datetime(df[\"Order_Date\"], dayfirst=True, errors='coerce')\n",
    "df[\"Ship_Date\"] = pd.to_datetime(df[\"Ship_Date\"], dayfirst=True, errors='coerce')\n",
    "\n",
    "# Преобразуем почтовый индекс в int, предварительно удалив `.0`, если оно есть\n",
    "df[\"Postal_Code\"] = df[\"Postal_Code\"].astype(str)  # Сначала делаем строки\n",
    "df[\"Postal_Code\"] = df[\"Postal_Code\"].str.replace(\".0\", \"\", regex=False)  # Убираем .0\n",
    "df[\"Postal_Code\"] = pd.to_numeric(df[\"Postal_Code\"], errors=\"coerce\").astype(\"Int64\")  # Преобразуем в Int64\n",
    "\n",
    "\n",
    "# Выводим итоговые типы данных\n",
    "print(df.dtypes)\n",
    "\n",
    "# Проверяем, как выглядят преобразованные данные\n",
    "print(df.head())"
   ]
  },
  {
   "cell_type": "code",
   "execution_count": 41,
   "id": "66f49d5e-9af1-48e1-8d54-f61f0d4cd4e5",
   "metadata": {},
   "outputs": [
    {
     "name": "stdout",
     "output_type": "stream",
     "text": [
      "<class 'pandas.core.frame.DataFrame'>\n",
      "RangeIndex: 9800 entries, 0 to 9799\n",
      "Data columns (total 18 columns):\n",
      " #   Column         Non-Null Count  Dtype         \n",
      "---  ------         --------------  -----         \n",
      " 0   Row_ID         9800 non-null   int64         \n",
      " 1   Order_ID       9800 non-null   object        \n",
      " 2   Order_Date     9800 non-null   datetime64[ns]\n",
      " 3   Ship_Date      9800 non-null   datetime64[ns]\n",
      " 4   Ship_Mode      9800 non-null   object        \n",
      " 5   Customer_ID    9800 non-null   object        \n",
      " 6   Customer_Name  9800 non-null   object        \n",
      " 7   Segment        9800 non-null   object        \n",
      " 8   Country        9800 non-null   object        \n",
      " 9   City           9800 non-null   object        \n",
      " 10  State          9800 non-null   object        \n",
      " 11  Postal_Code    9789 non-null   Int64         \n",
      " 12  Region         9800 non-null   object        \n",
      " 13  Product_ID     9800 non-null   object        \n",
      " 14  Category       9800 non-null   object        \n",
      " 15  Sub_Category   9800 non-null   object        \n",
      " 16  Product_Name   9800 non-null   object        \n",
      " 17  Sales          9800 non-null   float64       \n",
      "dtypes: Int64(1), datetime64[ns](2), float64(1), int64(1), object(13)\n",
      "memory usage: 1.4+ MB\n"
     ]
    }
   ],
   "source": [
    "# Используем df.info() для получения общей информации о DataFrame:\n",
    "# Это покажет нам количество строк и столбцов, типы данных в каждом столбце,\n",
    "# а также количество ненулевых значений в каждом столбце.\n",
    "# Это поможет выявить пропущенные значения и проблемы с типами данных.\n",
    "df.info()"
   ]
  },
  {
   "cell_type": "code",
   "execution_count": 42,
   "id": "b62cd982-14e4-4462-a436-b5291625abbd",
   "metadata": {},
   "outputs": [
    {
     "data": {
      "text/plain": [
       "Row_ID            0\n",
       "Order_ID          0\n",
       "Order_Date        0\n",
       "Ship_Date         0\n",
       "Ship_Mode         0\n",
       "Customer_ID       0\n",
       "Customer_Name     0\n",
       "Segment           0\n",
       "Country           0\n",
       "City              0\n",
       "State             0\n",
       "Postal_Code      11\n",
       "Region            0\n",
       "Product_ID        0\n",
       "Category          0\n",
       "Sub_Category      0\n",
       "Product_Name      0\n",
       "Sales             0\n",
       "dtype: int64"
      ]
     },
     "execution_count": 42,
     "metadata": {},
     "output_type": "execute_result"
    }
   ],
   "source": [
    "# Используем df.isnull().sum() для подсчета пропущенных значений в каждом столбце.\n",
    "# Это поможет нам понять, в каких столбцах могут быть пропущенные значения,\n",
    "# чтобы потом решить, как с ними работать (удалить или заполнить).\n",
    "df.isnull().sum()"
   ]
  },
  {
   "cell_type": "code",
   "execution_count": 43,
   "id": "64aba12e-880d-4a75-8005-080e43196291",
   "metadata": {},
   "outputs": [
    {
     "data": {
      "text/plain": [
       "Row_ID           0\n",
       "Order_ID         0\n",
       "Order_Date       0\n",
       "Ship_Date        0\n",
       "Ship_Mode        0\n",
       "Customer_ID      0\n",
       "Customer_Name    0\n",
       "Segment          0\n",
       "Country          0\n",
       "City             0\n",
       "State            0\n",
       "Postal_Code      0\n",
       "Region           0\n",
       "Product_ID       0\n",
       "Category         0\n",
       "Sub_Category     0\n",
       "Product_Name     0\n",
       "Sales            0\n",
       "dtype: int64"
      ]
     },
     "execution_count": 43,
     "metadata": {},
     "output_type": "execute_result"
    }
   ],
   "source": [
    "# Удаляем строки, где есть пропуски в столбце Postal_Code\n",
    "# Причина: Почтовые коды являются уникальными для каждой локации и не могут быть заменены средним значением, так как это будет нелогично.\n",
    "# Если бы мы заменили пропуски на средние значения, это нарушило бы целостность данных, так как почтовые коды должны быть точными.\n",
    "# Мы можем безопасно удалить эти строки, так как общее количество строк в датафрейме — 9800, а пропущены данные только в 11 строках.\n",
    "df_cleaned = df.dropna(subset=['Postal_Code'])\n",
    "\n",
    "# Проверяем, что пропуски были удалены\n",
    "df_cleaned.isnull().sum()"
   ]
  },
  {
   "cell_type": "code",
   "execution_count": 44,
   "id": "0e0696b5-56a9-4243-96d0-372304c2e1bc",
   "metadata": {},
   "outputs": [
    {
     "data": {
      "text/html": [
       "<div>\n",
       "<style scoped>\n",
       "    .dataframe tbody tr th:only-of-type {\n",
       "        vertical-align: middle;\n",
       "    }\n",
       "\n",
       "    .dataframe tbody tr th {\n",
       "        vertical-align: top;\n",
       "    }\n",
       "\n",
       "    .dataframe thead th {\n",
       "        text-align: right;\n",
       "    }\n",
       "</style>\n",
       "<table border=\"1\" class=\"dataframe\">\n",
       "  <thead>\n",
       "    <tr style=\"text-align: right;\">\n",
       "      <th></th>\n",
       "      <th>Order_Date</th>\n",
       "      <th>Ship_Date</th>\n",
       "      <th>Sales</th>\n",
       "    </tr>\n",
       "  </thead>\n",
       "  <tbody>\n",
       "    <tr>\n",
       "      <th>count</th>\n",
       "      <td>9789</td>\n",
       "      <td>9789</td>\n",
       "      <td>9789.000000</td>\n",
       "    </tr>\n",
       "    <tr>\n",
       "      <th>mean</th>\n",
       "      <td>2017-05-01 02:51:57.866993664</td>\n",
       "      <td>2017-05-05 01:56:03.898253056</td>\n",
       "      <td>230.116193</td>\n",
       "    </tr>\n",
       "    <tr>\n",
       "      <th>min</th>\n",
       "      <td>2015-01-03 00:00:00</td>\n",
       "      <td>2015-01-07 00:00:00</td>\n",
       "      <td>0.444000</td>\n",
       "    </tr>\n",
       "    <tr>\n",
       "      <th>25%</th>\n",
       "      <td>2016-05-23 00:00:00</td>\n",
       "      <td>2016-05-27 00:00:00</td>\n",
       "      <td>17.248000</td>\n",
       "    </tr>\n",
       "    <tr>\n",
       "      <th>50%</th>\n",
       "      <td>2017-06-26 00:00:00</td>\n",
       "      <td>2017-06-29 00:00:00</td>\n",
       "      <td>54.384000</td>\n",
       "    </tr>\n",
       "    <tr>\n",
       "      <th>75%</th>\n",
       "      <td>2018-05-15 00:00:00</td>\n",
       "      <td>2018-05-19 00:00:00</td>\n",
       "      <td>210.392000</td>\n",
       "    </tr>\n",
       "    <tr>\n",
       "      <th>max</th>\n",
       "      <td>2018-12-30 00:00:00</td>\n",
       "      <td>2019-01-05 00:00:00</td>\n",
       "      <td>22638.480000</td>\n",
       "    </tr>\n",
       "    <tr>\n",
       "      <th>std</th>\n",
       "      <td>NaN</td>\n",
       "      <td>NaN</td>\n",
       "      <td>625.302079</td>\n",
       "    </tr>\n",
       "  </tbody>\n",
       "</table>\n",
       "</div>"
      ],
      "text/plain": [
       "                          Order_Date                      Ship_Date  \\\n",
       "count                           9789                           9789   \n",
       "mean   2017-05-01 02:51:57.866993664  2017-05-05 01:56:03.898253056   \n",
       "min              2015-01-03 00:00:00            2015-01-07 00:00:00   \n",
       "25%              2016-05-23 00:00:00            2016-05-27 00:00:00   \n",
       "50%              2017-06-26 00:00:00            2017-06-29 00:00:00   \n",
       "75%              2018-05-15 00:00:00            2018-05-19 00:00:00   \n",
       "max              2018-12-30 00:00:00            2019-01-05 00:00:00   \n",
       "std                              NaN                            NaN   \n",
       "\n",
       "              Sales  \n",
       "count   9789.000000  \n",
       "mean     230.116193  \n",
       "min        0.444000  \n",
       "25%       17.248000  \n",
       "50%       54.384000  \n",
       "75%      210.392000  \n",
       "max    22638.480000  \n",
       "std      625.302079  "
      ]
     },
     "execution_count": 44,
     "metadata": {},
     "output_type": "execute_result"
    }
   ],
   "source": [
    "# Используем df.describe() для получения статистического описания числовых данных.\n",
    "# Это включает такие метрики, как среднее, стандартное отклонение, минимальные и максимальные значения,\n",
    "# а также квартели для каждого числового столбца.\n",
    "# Однако, столбцы Row_ID и Postal_Code не имеют практического смысла для статистического описания,\n",
    "# так как Row_ID — это уникальный идентификатор, а Postal_Code — код региона, и их значения не имеют\n",
    "# значения для вычисления среднего, квартелей и других статистических характеристик.\n",
    "# Поэтому, чтобы избежать искажения данных, эти столбцы будут исключены из анализа.\n",
    "df_cleaned.drop(columns=[\"Row_ID\", \"Postal_Code\"]).describe()"
   ]
  },
  {
   "cell_type": "code",
   "execution_count": 45,
   "id": "4ab8a97d-edcb-457f-b24e-06841f5d8d6e",
   "metadata": {},
   "outputs": [
    {
     "data": {
      "image/png": "[encoded data removed]",
      "text/plain": [
       "<Figure size 1200x600 with 1 Axes>"
      ]
     },
     "metadata": {},
     "output_type": "display_data"
    },
    {
     "data": {
      "image/png": "[encoded data removed]",
      "text/plain": [
       "<Figure size 1200x600 with 1 Axes>"
      ]
     },
     "metadata": {},
     "output_type": "display_data"
    }
   ],
   "source": [
    "import matplotlib.pyplot as plt\n",
    "import seaborn as sns\n",
    "\n",
    "# Убедимся, что дата в нужном формате, используя .loc для корректной работы с данным DataFrame\n",
    "df_cleaned.loc[:, 'Order_Date'] = pd.to_datetime(df_cleaned['Order_Date'])\n",
    "df_cleaned.loc[:, 'Ship_Date'] = pd.to_datetime(df_cleaned['Ship_Date'])\n",
    "\n",
    "# График по заказам (Order_Date)\n",
    "plt.figure(figsize=(12, 6))\n",
    "sns.countplot(data=df_cleaned, x='Order_Date', color='skyblue')\n",
    "plt.title('Количество заказов по дням')\n",
    "plt.ylabel('Количество заказов')  # Подпишем ось Y\n",
    "plt.xticks([])  # Убираем подписи на оси X\n",
    "plt.show()\n",
    "\n",
    "# График по отгрузкам (Ship_Date)\n",
    "plt.figure(figsize=(12, 6))\n",
    "sns.countplot(data=df_cleaned, x='Ship_Date', color='salmon')\n",
    "plt.title('Количество отгрузок по дням')\n",
    "plt.ylabel('Количество отгрузок')  # Подпишем ось Y\n",
    "plt.xticks([])  # Убираем подписи на оси X\n",
    "plt.show()"
   ]
  },
  {
   "cell_type": "code",
   "execution_count": 46,
   "id": "04fb374f-608d-4918-8df9-500714f7e7a2",
   "metadata": {},
   "outputs": [],
   "source": [
    "#График по заказам: Максимальное количество заказов в день — около 40. Есть дни с нулевыми заказами, что указывает на выходные дни. Аномалий не выявлено.\n",
    "#График по отгрузкам: Максимальное количество отгрузок в день — меньше 35. Также есть дни с нулевыми отгрузками, что также связано с выходными днями. Аномалий не выявлено."
   ]
  },
  {
   "cell_type": "code",
   "execution_count": 47,
   "id": "b1c301f9-7740-407f-9342-94fe8793d6cd",
   "metadata": {},
   "outputs": [
    {
     "data": {
      "image/png": "[encoded data removed]",
      "text/plain": [
       "<Figure size 1000x600 with 1 Axes>"
      ]
     },
     "metadata": {},
     "output_type": "display_data"
    }
   ],
   "source": [
    "import seaborn as sns\n",
    "import matplotlib.pyplot as plt\n",
    "\n",
    "plt.figure(figsize=(10, 6))\n",
    "sns.boxplot(x=df_cleaned['Sales'], color='lightblue')\n",
    "\n",
    "plt.xscale('log')  # Логарифмическая шкала\n",
    "plt.title(\"Boxplot цен товаров с логарифмической шкалой\", fontsize=16)\n",
    "plt.xlabel(\"Цена (логарифмическая шкала)\", fontsize=12)\n",
    "plt.show()"
   ]
  },
  {
   "cell_type": "code",
   "execution_count": 48,
   "id": "6ac2f207-c641-4acb-a72d-df57063d7922",
   "metadata": {},
   "outputs": [],
   "source": [
    "# График цен мы проверим отдельно, в SQL, просмотрев 10 самых дорогих товаров.  \n",
    "# Затем сравним их цены с реальными значениями в интернете.  \n",
    "# Однако сам график, судя по форме, следует нормальному распределению   \n",
    "# Выбросы мы дополнительно проверим, но логично, что очень дорогие товары  \n",
    "# заказывают реже, и это, вероятно, укладывается в картину мира."
   ]
  },
  {
   "cell_type": "code",
   "execution_count": 51,
   "id": "2ad60cfd-8bfa-4e56-9772-e0d205f3145e",
   "metadata": {},
   "outputs": [],
   "source": [
    "#Экспортируем данные – сохраняем df_cleaned в формате CSV\n",
    "#Используем кодировку utf-8, Сохраняем файл и загружаем в MySQL\n",
    "df_cleaned.loc[:, 'Product_Name'] = df_cleaned['Product_Name'].str.replace(r'\\s+', ' ', regex=True).str.strip()\n",
    "df_cleaned.to_csv(\"cleaned_data.csv\", index=False, encoding=\"utf-8-sig\")"
   ]
  },
  {
   "cell_type": "code",
   "execution_count": 52,
   "id": "587e27ed-4704-4460-9c8d-0a7638ec5416",
   "metadata": {},
   "outputs": [
    {
     "data": {
      "text/html": [
       "<div>\n",
       "<style scoped>\n",
       "    .dataframe tbody tr th:only-of-type {\n",
       "        vertical-align: middle;\n",
       "    }\n",
       "\n",
       "    .dataframe tbody tr th {\n",
       "        vertical-align: top;\n",
       "    }\n",
       "\n",
       "    .dataframe thead th {\n",
       "        text-align: right;\n",
       "    }\n",
       "</style>\n",
       "<table border=\"1\" class=\"dataframe\">\n",
       "  <thead>\n",
       "    <tr style=\"text-align: right;\">\n",
       "      <th></th>\n",
       "      <th>Row_ID</th>\n",
       "      <th>Order_ID</th>\n",
       "      <th>Order_Date</th>\n",
       "      <th>Ship_Date</th>\n",
       "      <th>Ship_Mode</th>\n",
       "      <th>Customer_ID</th>\n",
       "      <th>Customer_Name</th>\n",
       "      <th>Segment</th>\n",
       "      <th>Country</th>\n",
       "      <th>City</th>\n",
       "      <th>State</th>\n",
       "      <th>Postal_Code</th>\n",
       "      <th>Region</th>\n",
       "      <th>Product_ID</th>\n",
       "      <th>Category</th>\n",
       "      <th>Sub_Category</th>\n",
       "      <th>Product_Name</th>\n",
       "      <th>Sales</th>\n",
       "    </tr>\n",
       "  </thead>\n",
       "  <tbody>\n",
       "    <tr>\n",
       "      <th>0</th>\n",
       "      <td>1</td>\n",
       "      <td>CA-2017-152156</td>\n",
       "      <td>2017-11-08</td>\n",
       "      <td>2017-11-11</td>\n",
       "      <td>Second Class</td>\n",
       "      <td>CG-12520</td>\n",
       "      <td>Claire Gute</td>\n",
       "      <td>Consumer</td>\n",
       "      <td>United States</td>\n",
       "      <td>Henderson</td>\n",
       "      <td>Kentucky</td>\n",
       "      <td>42420</td>\n",
       "      <td>South</td>\n",
       "      <td>FUR-BO-10001798</td>\n",
       "      <td>Furniture</td>\n",
       "      <td>Bookcases</td>\n",
       "      <td>Bush Somerset Collection Bookcase</td>\n",
       "      <td>261.9600</td>\n",
       "    </tr>\n",
       "    <tr>\n",
       "      <th>1</th>\n",
       "      <td>2</td>\n",
       "      <td>CA-2017-152156</td>\n",
       "      <td>2017-11-08</td>\n",
       "      <td>2017-11-11</td>\n",
       "      <td>Second Class</td>\n",
       "      <td>CG-12520</td>\n",
       "      <td>Claire Gute</td>\n",
       "      <td>Consumer</td>\n",
       "      <td>United States</td>\n",
       "      <td>Henderson</td>\n",
       "      <td>Kentucky</td>\n",
       "      <td>42420</td>\n",
       "      <td>South</td>\n",
       "      <td>FUR-CH-10000454</td>\n",
       "      <td>Furniture</td>\n",
       "      <td>Chairs</td>\n",
       "      <td>Hon Deluxe Fabric Upholstered Stacking Chairs,...</td>\n",
       "      <td>731.9400</td>\n",
       "    </tr>\n",
       "    <tr>\n",
       "      <th>2</th>\n",
       "      <td>3</td>\n",
       "      <td>CA-2017-138688</td>\n",
       "      <td>2017-06-12</td>\n",
       "      <td>2017-06-16</td>\n",
       "      <td>Second Class</td>\n",
       "      <td>DV-13045</td>\n",
       "      <td>Darrin Van Huff</td>\n",
       "      <td>Corporate</td>\n",
       "      <td>United States</td>\n",
       "      <td>Los Angeles</td>\n",
       "      <td>California</td>\n",
       "      <td>90036</td>\n",
       "      <td>West</td>\n",
       "      <td>OFF-LA-10000240</td>\n",
       "      <td>Office Supplies</td>\n",
       "      <td>Labels</td>\n",
       "      <td>Self-Adhesive Address Labels for Typewriters b...</td>\n",
       "      <td>14.6200</td>\n",
       "    </tr>\n",
       "    <tr>\n",
       "      <th>3</th>\n",
       "      <td>4</td>\n",
       "      <td>US-2016-108966</td>\n",
       "      <td>2016-10-11</td>\n",
       "      <td>2016-10-18</td>\n",
       "      <td>Standard Class</td>\n",
       "      <td>SO-20335</td>\n",
       "      <td>Sean O Donnel</td>\n",
       "      <td>Consumer</td>\n",
       "      <td>United States</td>\n",
       "      <td>Fort Lauderdale</td>\n",
       "      <td>Florida</td>\n",
       "      <td>33311</td>\n",
       "      <td>South</td>\n",
       "      <td>FUR-TA-10000577</td>\n",
       "      <td>Furniture</td>\n",
       "      <td>Tables</td>\n",
       "      <td>Bretford CR4500 Series Slim Rectangular Table</td>\n",
       "      <td>957.5775</td>\n",
       "    </tr>\n",
       "    <tr>\n",
       "      <th>4</th>\n",
       "      <td>5</td>\n",
       "      <td>US-2016-108966</td>\n",
       "      <td>2016-10-11</td>\n",
       "      <td>2016-10-18</td>\n",
       "      <td>Standard Class</td>\n",
       "      <td>SO-20335</td>\n",
       "      <td>Sean O Donnel</td>\n",
       "      <td>Consumer</td>\n",
       "      <td>United States</td>\n",
       "      <td>Fort Lauderdale</td>\n",
       "      <td>Florida</td>\n",
       "      <td>33311</td>\n",
       "      <td>South</td>\n",
       "      <td>OFF-ST-10000760</td>\n",
       "      <td>Office Supplies</td>\n",
       "      <td>Storage</td>\n",
       "      <td>Eldon Fold N Roll Cart System</td>\n",
       "      <td>22.3680</td>\n",
       "    </tr>\n",
       "  </tbody>\n",
       "</table>\n",
       "</div>"
      ],
      "text/plain": [
       "   Row_ID        Order_ID  Order_Date   Ship_Date       Ship_Mode Customer_ID  \\\n",
       "0       1  CA-2017-152156  2017-11-08  2017-11-11    Second Class    CG-12520   \n",
       "1       2  CA-2017-152156  2017-11-08  2017-11-11    Second Class    CG-12520   \n",
       "2       3  CA-2017-138688  2017-06-12  2017-06-16    Second Class    DV-13045   \n",
       "3       4  US-2016-108966  2016-10-11  2016-10-18  Standard Class    SO-20335   \n",
       "4       5  US-2016-108966  2016-10-11  2016-10-18  Standard Class    SO-20335   \n",
       "\n",
       "     Customer_Name    Segment        Country             City       State  \\\n",
       "0      Claire Gute   Consumer  United States        Henderson    Kentucky   \n",
       "1      Claire Gute   Consumer  United States        Henderson    Kentucky   \n",
       "2  Darrin Van Huff  Corporate  United States      Los Angeles  California   \n",
       "3    Sean O Donnel   Consumer  United States  Fort Lauderdale     Florida   \n",
       "4    Sean O Donnel   Consumer  United States  Fort Lauderdale     Florida   \n",
       "\n",
       "   Postal_Code Region       Product_ID         Category Sub_Category  \\\n",
       "0        42420  South  FUR-BO-10001798        Furniture    Bookcases   \n",
       "1        42420  South  FUR-CH-10000454        Furniture       Chairs   \n",
       "2        90036   West  OFF-LA-10000240  Office Supplies       Labels   \n",
       "3        33311  South  FUR-TA-10000577        Furniture       Tables   \n",
       "4        33311  South  OFF-ST-10000760  Office Supplies      Storage   \n",
       "\n",
       "                                        Product_Name     Sales  \n",
       "0                  Bush Somerset Collection Bookcase  261.9600  \n",
       "1  Hon Deluxe Fabric Upholstered Stacking Chairs,...  731.9400  \n",
       "2  Self-Adhesive Address Labels for Typewriters b...   14.6200  \n",
       "3      Bretford CR4500 Series Slim Rectangular Table  957.5775  \n",
       "4                      Eldon Fold N Roll Cart System   22.3680  "
      ]
     },
     "execution_count": 52,
     "metadata": {},
     "output_type": "execute_result"
    }
   ],
   "source": [
    "#проверим файл\n",
    "import pandas as pd\n",
    "pd.read_csv(\"cleaned_data.csv\").head()"
   ]
  },
  {
   "cell_type": "code",
   "execution_count": null,
   "id": "272f03b4-980c-4b7b-831d-62a90da19251",
   "metadata": {},
   "outputs": [],
   "source": []
  },
  {
   "cell_type": "code",
   "execution_count": null,
   "id": "f72718bd-65ee-4f5b-aef8-8e2dbd4d16b3",
   "metadata": {},
   "outputs": [],
   "source": []
  },
  {
   "cell_type": "code",
   "execution_count": null,
   "id": "87f0ecde-397b-4c23-b881-d9275fa5d492",
   "metadata": {},
   "outputs": [],
   "source": []
  },
  {
   "cell_type": "code",
   "execution_count": null,
   "id": "eb4bd84e-020f-4f93-8a7b-b67091fabe58",
   "metadata": {},
   "outputs": [],
   "source": []
  },
  {
   "cell_type": "code",
   "execution_count": null,
   "id": "49bbe759-2a68-4db8-9179-442169ceb08a",
   "metadata": {},
   "outputs": [],
   "source": []
  },
  {
   "cell_type": "code",
   "execution_count": null,
   "id": "18b6c4d4-e124-48c5-96be-4a18bab3f07c",
   "metadata": {},
   "outputs": [],
   "source": []
  }
 ],
 "metadata": {
  "kernelspec": {
   "display_name": "Python 3 (ipykernel)",
   "language": "python",
   "name": "python3"
  },
  "language_info": {
   "codemirror_mode": {
    "name": "ipython",
    "version": 3
   },
   "file_extension": ".py",
   "mimetype": "text/x-python",
   "name": "python",
   "nbconvert_exporter": "python",
   "pygments_lexer": "ipython3",
   "version": "3.11.5"
  }
 },
 "nbformat": 4,
 "nbformat_minor": 5
}
